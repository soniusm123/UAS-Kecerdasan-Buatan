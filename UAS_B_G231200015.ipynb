{
  "nbformat": 4,
  "nbformat_minor": 0,
  "metadata": {
    "colab": {
      "provenance": [],
      "authorship_tag": "ABX9TyMNqUqdCuN1gauCKB40MBLc",
      "include_colab_link": true
    },
    "kernelspec": {
      "name": "python3",
      "display_name": "Python 3"
    },
    "language_info": {
      "name": "python"
    }
  },
  "cells": [
    {
      "cell_type": "markdown",
      "metadata": {
        "id": "view-in-github",
        "colab_type": "text"
      },
      "source": [
        "<a href=\"https://colab.research.google.com/github/soniusm123/UAS-Kecerdasan-Buatan/blob/main/UAS_B_G231200015.ipynb\" target=\"_parent\"><img src=\"https://colab.research.google.com/assets/colab-badge.svg\" alt=\"Open In Colab\"/></a>"
      ]
    },
    {
      "cell_type": "code",
      "execution_count": 1,
      "metadata": {
        "id": "1ot_HAOSp_Cg"
      },
      "outputs": [],
      "source": [
        "import numpy as np\n",
        "import tensorflow as tf\n",
        "from tensorflow import keras\n",
        "from sklearn.model_selection import train_test_split\n"
      ]
    },
    {
      "cell_type": "code",
      "source": [
        "# Membuat dataset contohmodel\n",
        "X = np.random.rand(1000, 3)\n",
        "y = np.random.randint(0, 2, size=(1000,))\n",
        "\n",
        "# Membagi dataset menjadi data pelatihan (train) dan data pengujian (test)\n",
        "X_train, X_test, y_train, y_test = train_test_split(X, y, test_size=0.35, random_state=42)\n",
        "\n",
        "# Membangun model\n",
        "model = keras.Sequential([\n",
        "    keras.layers.Dense(16, activation='relu', input_shape=(3,)),  # Hidden Layer 1\n",
        "    keras.layers.Dense(16, activation='relu'),  # Hidden Layer 2\n",
        "    keras.layers.Dense(16, activation='relu'),  # Hidden Layer 3\n",
        "    keras.layers.Dense(2, activation='softmax')  # Output Layer\n",
        "])\n",
        "\n",
        "# Mengompilasi model dengan optimizer Adam\n",
        "model.compile(optimizer='adam', loss='sparse_categorical_crossentropy', metrics=['accuracy'])\n",
        "\n",
        "# Melatih model\n",
        "model.fit(X_train, y_train, epochs=10, batch_size=32, validation_split=0.2)\n",
        "\n",
        "# Evaluasi model pada data pengujian\n",
        "loss, accuracy = model.evaluate(X_test, y_test)\n",
        "print(\"Loss:\", loss)\n",
        "print(\"Accuracy:\", accuracy)\n"
      ],
      "metadata": {
        "colab": {
          "base_uri": "https://localhost:8080/"
        },
        "id": "doc6otorrUxB",
        "outputId": "709e1d32-ba3e-43fe-fb32-42ad46423834"
      },
      "execution_count": 2,
      "outputs": [
        {
          "output_type": "stream",
          "name": "stdout",
          "text": [
            "Epoch 1/10\n",
            "17/17 [==============================] - 1s 18ms/step - loss: 0.6913 - accuracy: 0.5096 - val_loss: 0.6958 - val_accuracy: 0.4923\n",
            "Epoch 2/10\n",
            "17/17 [==============================] - 0s 6ms/step - loss: 0.6900 - accuracy: 0.5212 - val_loss: 0.6945 - val_accuracy: 0.4462\n",
            "Epoch 3/10\n",
            "17/17 [==============================] - 0s 4ms/step - loss: 0.6894 - accuracy: 0.5212 - val_loss: 0.6938 - val_accuracy: 0.4538\n",
            "Epoch 4/10\n",
            "17/17 [==============================] - 0s 4ms/step - loss: 0.6894 - accuracy: 0.5269 - val_loss: 0.6929 - val_accuracy: 0.5077\n",
            "Epoch 5/10\n",
            "17/17 [==============================] - 0s 5ms/step - loss: 0.6891 - accuracy: 0.5442 - val_loss: 0.6935 - val_accuracy: 0.4923\n",
            "Epoch 6/10\n",
            "17/17 [==============================] - 0s 4ms/step - loss: 0.6892 - accuracy: 0.5462 - val_loss: 0.6939 - val_accuracy: 0.4769\n",
            "Epoch 7/10\n",
            "17/17 [==============================] - 0s 5ms/step - loss: 0.6881 - accuracy: 0.5308 - val_loss: 0.6940 - val_accuracy: 0.4923\n",
            "Epoch 8/10\n",
            "17/17 [==============================] - 0s 5ms/step - loss: 0.6888 - accuracy: 0.5365 - val_loss: 0.6929 - val_accuracy: 0.5231\n",
            "Epoch 9/10\n",
            "17/17 [==============================] - 0s 4ms/step - loss: 0.6885 - accuracy: 0.5404 - val_loss: 0.6951 - val_accuracy: 0.4769\n",
            "Epoch 10/10\n",
            "17/17 [==============================] - 0s 4ms/step - loss: 0.6878 - accuracy: 0.5269 - val_loss: 0.6940 - val_accuracy: 0.5000\n",
            "11/11 [==============================] - 0s 2ms/step - loss: 0.6928 - accuracy: 0.5371\n",
            "Loss: 0.6927528977394104\n",
            "Accuracy: 0.5371428728103638\n"
          ]
        }
      ]
    }
  ]
}